{
 "cells": [
  {
   "cell_type": "markdown",
   "id": "4a38c162",
   "metadata": {},
   "source": [
    "# Titanic survival data prediction"
   ]
  },
  {
   "cell_type": "markdown",
   "id": "ec594518",
   "metadata": {},
   "source": [
    "importing all dependancies and libraries"
   ]
  },
  {
   "cell_type": "code",
   "execution_count": 1,
   "id": "73898b36",
   "metadata": {},
   "outputs": [],
   "source": [
    "import numpy as np\n",
    "import pandas as pd\n",
    "import tensorflow as tf\n",
    "from sklearn.model_selection import train_test_split\n",
    "from sklearn.metrics import accuracy_score\n",
    "\n",
    "from sklearn.preprocessing import StandardScaler"
   ]
  },
  {
   "cell_type": "markdown",
   "id": "d8eb0faf",
   "metadata": {},
   "source": [
    "loading tested file for training model"
   ]
  },
  {
   "cell_type": "code",
   "execution_count": 2,
   "id": "58013325",
   "metadata": {},
   "outputs": [],
   "source": [
    "data = pd.read_csv('tested.csv')  # Replace with your dataset file path\n"
   ]
  },
  {
   "cell_type": "code",
   "execution_count": 3,
   "id": "745d270e",
   "metadata": {},
   "outputs": [
    {
     "data": {
      "text/html": [
       "<div>\n",
       "<style scoped>\n",
       "    .dataframe tbody tr th:only-of-type {\n",
       "        vertical-align: middle;\n",
       "    }\n",
       "\n",
       "    .dataframe tbody tr th {\n",
       "        vertical-align: top;\n",
       "    }\n",
       "\n",
       "    .dataframe thead th {\n",
       "        text-align: right;\n",
       "    }\n",
       "</style>\n",
       "<table border=\"1\" class=\"dataframe\">\n",
       "  <thead>\n",
       "    <tr style=\"text-align: right;\">\n",
       "      <th></th>\n",
       "      <th>PassengerId</th>\n",
       "      <th>Survived</th>\n",
       "      <th>Pclass</th>\n",
       "      <th>Name</th>\n",
       "      <th>Sex</th>\n",
       "      <th>Age</th>\n",
       "      <th>SibSp</th>\n",
       "      <th>Parch</th>\n",
       "      <th>Ticket</th>\n",
       "      <th>Fare</th>\n",
       "      <th>Cabin</th>\n",
       "      <th>Embarked</th>\n",
       "    </tr>\n",
       "  </thead>\n",
       "  <tbody>\n",
       "    <tr>\n",
       "      <th>0</th>\n",
       "      <td>892</td>\n",
       "      <td>0</td>\n",
       "      <td>3</td>\n",
       "      <td>Kelly, Mr. James</td>\n",
       "      <td>male</td>\n",
       "      <td>34.5</td>\n",
       "      <td>0</td>\n",
       "      <td>0</td>\n",
       "      <td>330911</td>\n",
       "      <td>7.8292</td>\n",
       "      <td>NaN</td>\n",
       "      <td>Q</td>\n",
       "    </tr>\n",
       "    <tr>\n",
       "      <th>1</th>\n",
       "      <td>893</td>\n",
       "      <td>1</td>\n",
       "      <td>3</td>\n",
       "      <td>Wilkes, Mrs. James (Ellen Needs)</td>\n",
       "      <td>female</td>\n",
       "      <td>47.0</td>\n",
       "      <td>1</td>\n",
       "      <td>0</td>\n",
       "      <td>363272</td>\n",
       "      <td>7.0000</td>\n",
       "      <td>NaN</td>\n",
       "      <td>S</td>\n",
       "    </tr>\n",
       "    <tr>\n",
       "      <th>2</th>\n",
       "      <td>894</td>\n",
       "      <td>0</td>\n",
       "      <td>2</td>\n",
       "      <td>Myles, Mr. Thomas Francis</td>\n",
       "      <td>male</td>\n",
       "      <td>62.0</td>\n",
       "      <td>0</td>\n",
       "      <td>0</td>\n",
       "      <td>240276</td>\n",
       "      <td>9.6875</td>\n",
       "      <td>NaN</td>\n",
       "      <td>Q</td>\n",
       "    </tr>\n",
       "    <tr>\n",
       "      <th>3</th>\n",
       "      <td>895</td>\n",
       "      <td>0</td>\n",
       "      <td>3</td>\n",
       "      <td>Wirz, Mr. Albert</td>\n",
       "      <td>male</td>\n",
       "      <td>27.0</td>\n",
       "      <td>0</td>\n",
       "      <td>0</td>\n",
       "      <td>315154</td>\n",
       "      <td>8.6625</td>\n",
       "      <td>NaN</td>\n",
       "      <td>S</td>\n",
       "    </tr>\n",
       "    <tr>\n",
       "      <th>4</th>\n",
       "      <td>896</td>\n",
       "      <td>1</td>\n",
       "      <td>3</td>\n",
       "      <td>Hirvonen, Mrs. Alexander (Helga E Lindqvist)</td>\n",
       "      <td>female</td>\n",
       "      <td>22.0</td>\n",
       "      <td>1</td>\n",
       "      <td>1</td>\n",
       "      <td>3101298</td>\n",
       "      <td>12.2875</td>\n",
       "      <td>NaN</td>\n",
       "      <td>S</td>\n",
       "    </tr>\n",
       "    <tr>\n",
       "      <th>...</th>\n",
       "      <td>...</td>\n",
       "      <td>...</td>\n",
       "      <td>...</td>\n",
       "      <td>...</td>\n",
       "      <td>...</td>\n",
       "      <td>...</td>\n",
       "      <td>...</td>\n",
       "      <td>...</td>\n",
       "      <td>...</td>\n",
       "      <td>...</td>\n",
       "      <td>...</td>\n",
       "      <td>...</td>\n",
       "    </tr>\n",
       "    <tr>\n",
       "      <th>413</th>\n",
       "      <td>1305</td>\n",
       "      <td>0</td>\n",
       "      <td>3</td>\n",
       "      <td>Spector, Mr. Woolf</td>\n",
       "      <td>male</td>\n",
       "      <td>NaN</td>\n",
       "      <td>0</td>\n",
       "      <td>0</td>\n",
       "      <td>A.5. 3236</td>\n",
       "      <td>8.0500</td>\n",
       "      <td>NaN</td>\n",
       "      <td>S</td>\n",
       "    </tr>\n",
       "    <tr>\n",
       "      <th>414</th>\n",
       "      <td>1306</td>\n",
       "      <td>1</td>\n",
       "      <td>1</td>\n",
       "      <td>Oliva y Ocana, Dona. Fermina</td>\n",
       "      <td>female</td>\n",
       "      <td>39.0</td>\n",
       "      <td>0</td>\n",
       "      <td>0</td>\n",
       "      <td>PC 17758</td>\n",
       "      <td>108.9000</td>\n",
       "      <td>C105</td>\n",
       "      <td>C</td>\n",
       "    </tr>\n",
       "    <tr>\n",
       "      <th>415</th>\n",
       "      <td>1307</td>\n",
       "      <td>0</td>\n",
       "      <td>3</td>\n",
       "      <td>Saether, Mr. Simon Sivertsen</td>\n",
       "      <td>male</td>\n",
       "      <td>38.5</td>\n",
       "      <td>0</td>\n",
       "      <td>0</td>\n",
       "      <td>SOTON/O.Q. 3101262</td>\n",
       "      <td>7.2500</td>\n",
       "      <td>NaN</td>\n",
       "      <td>S</td>\n",
       "    </tr>\n",
       "    <tr>\n",
       "      <th>416</th>\n",
       "      <td>1308</td>\n",
       "      <td>0</td>\n",
       "      <td>3</td>\n",
       "      <td>Ware, Mr. Frederick</td>\n",
       "      <td>male</td>\n",
       "      <td>NaN</td>\n",
       "      <td>0</td>\n",
       "      <td>0</td>\n",
       "      <td>359309</td>\n",
       "      <td>8.0500</td>\n",
       "      <td>NaN</td>\n",
       "      <td>S</td>\n",
       "    </tr>\n",
       "    <tr>\n",
       "      <th>417</th>\n",
       "      <td>1309</td>\n",
       "      <td>0</td>\n",
       "      <td>3</td>\n",
       "      <td>Peter, Master. Michael J</td>\n",
       "      <td>male</td>\n",
       "      <td>NaN</td>\n",
       "      <td>1</td>\n",
       "      <td>1</td>\n",
       "      <td>2668</td>\n",
       "      <td>22.3583</td>\n",
       "      <td>NaN</td>\n",
       "      <td>C</td>\n",
       "    </tr>\n",
       "  </tbody>\n",
       "</table>\n",
       "<p>418 rows × 12 columns</p>\n",
       "</div>"
      ],
      "text/plain": [
       "     PassengerId  Survived  Pclass  \\\n",
       "0            892         0       3   \n",
       "1            893         1       3   \n",
       "2            894         0       2   \n",
       "3            895         0       3   \n",
       "4            896         1       3   \n",
       "..           ...       ...     ...   \n",
       "413         1305         0       3   \n",
       "414         1306         1       1   \n",
       "415         1307         0       3   \n",
       "416         1308         0       3   \n",
       "417         1309         0       3   \n",
       "\n",
       "                                             Name     Sex   Age  SibSp  Parch  \\\n",
       "0                                Kelly, Mr. James    male  34.5      0      0   \n",
       "1                Wilkes, Mrs. James (Ellen Needs)  female  47.0      1      0   \n",
       "2                       Myles, Mr. Thomas Francis    male  62.0      0      0   \n",
       "3                                Wirz, Mr. Albert    male  27.0      0      0   \n",
       "4    Hirvonen, Mrs. Alexander (Helga E Lindqvist)  female  22.0      1      1   \n",
       "..                                            ...     ...   ...    ...    ...   \n",
       "413                            Spector, Mr. Woolf    male   NaN      0      0   \n",
       "414                  Oliva y Ocana, Dona. Fermina  female  39.0      0      0   \n",
       "415                  Saether, Mr. Simon Sivertsen    male  38.5      0      0   \n",
       "416                           Ware, Mr. Frederick    male   NaN      0      0   \n",
       "417                      Peter, Master. Michael J    male   NaN      1      1   \n",
       "\n",
       "                 Ticket      Fare Cabin Embarked  \n",
       "0                330911    7.8292   NaN        Q  \n",
       "1                363272    7.0000   NaN        S  \n",
       "2                240276    9.6875   NaN        Q  \n",
       "3                315154    8.6625   NaN        S  \n",
       "4               3101298   12.2875   NaN        S  \n",
       "..                  ...       ...   ...      ...  \n",
       "413           A.5. 3236    8.0500   NaN        S  \n",
       "414            PC 17758  108.9000  C105        C  \n",
       "415  SOTON/O.Q. 3101262    7.2500   NaN        S  \n",
       "416              359309    8.0500   NaN        S  \n",
       "417                2668   22.3583   NaN        C  \n",
       "\n",
       "[418 rows x 12 columns]"
      ]
     },
     "execution_count": 3,
     "metadata": {},
     "output_type": "execute_result"
    }
   ],
   "source": [
    "data"
   ]
  },
  {
   "cell_type": "markdown",
   "id": "9d67f516",
   "metadata": {},
   "source": [
    "preprocessing and cleaning of data for training model"
   ]
  },
  {
   "cell_type": "code",
   "execution_count": 4,
   "id": "875d2460",
   "metadata": {},
   "outputs": [],
   "source": [
    "data['Age'].fillna(data['Age'].median(), inplace=True)\n",
    "data['Embarked'].fillna(data['Embarked'].mode()[0], inplace=True)\n",
    "data = pd.get_dummies(data, columns=['Sex', 'Embarked'])\n",
    "data.drop(['Fare'] , axis=1 , inplace=True)\n",
    "data.drop(['PassengerId', 'Name', 'Ticket', 'Cabin'], axis=1, inplace=True)\n",
    "X = data.drop('Survived', axis=1)\n",
    "y = data['Survived']"
   ]
  },
  {
   "cell_type": "markdown",
   "id": "a806efba",
   "metadata": {},
   "source": [
    "spliting testing and training data for training and predicting our model"
   ]
  },
  {
   "cell_type": "code",
   "execution_count": 5,
   "id": "49ae6d1f",
   "metadata": {},
   "outputs": [],
   "source": [
    "X_train, X_test, y_train, y_test = train_test_split(X, y, test_size=0.2, random_state=42)"
   ]
  },
  {
   "cell_type": "markdown",
   "id": "5b0d605f",
   "metadata": {},
   "source": [
    "scaling and normalizing data for more accurate model"
   ]
  },
  {
   "cell_type": "code",
   "execution_count": 6,
   "id": "7491f150",
   "metadata": {},
   "outputs": [
    {
     "data": {
      "text/plain": [
       "array([[-0.31938196,  0.19632439, -0.49831227, ..., -0.57043565,\n",
       "        -0.35829929,  0.74883086],\n",
       "       [-0.31938196, -0.41817392,  1.62189534, ..., -0.57043565,\n",
       "        -0.35829929,  0.74883086],\n",
       "       [-0.31938196, -0.18773705, -0.49831227, ..., -0.57043565,\n",
       "         2.79096286, -1.33541504],\n",
       "       ...,\n",
       "       [-1.5046439 ,  1.27169645, -0.49831227, ...,  1.75304613,\n",
       "        -0.35829929, -1.33541504],\n",
       "       [-0.31938196, -0.41817392, -0.49831227, ..., -0.57043565,\n",
       "        -0.35829929,  0.74883086],\n",
       "       [ 0.86587998, -0.18773705, -0.49831227, ..., -0.57043565,\n",
       "         2.79096286, -1.33541504]])"
      ]
     },
     "execution_count": 6,
     "metadata": {},
     "output_type": "execute_result"
    }
   ],
   "source": [
    "scaler = StandardScaler()\n",
    "X_train_scaled = scaler.fit_transform(X_train)\n",
    "X_test_scaled = scaler.transform(X_test)\n",
    "X_train_scaled"
   ]
  },
  {
   "cell_type": "code",
   "execution_count": null,
   "id": "c1fc71fd",
   "metadata": {},
   "outputs": [],
   "source": [
    "\n"
   ]
  },
  {
   "cell_type": "markdown",
   "id": "b603d6db",
   "metadata": {},
   "source": [
    "building our sequential model "
   ]
  },
  {
   "cell_type": "code",
   "execution_count": 7,
   "id": "94467945",
   "metadata": {},
   "outputs": [],
   "source": [
    "model = tf.keras.models.Sequential([\n",
    "    tf.keras.layers.Dense(128, activation='relu', input_shape=(X_train_scaled.shape[1],)),\n",
    "    tf.keras.layers.Dropout(0.2),\n",
    "    tf.keras.layers.Dense(64, activation='relu'),\n",
    "    tf.keras.layers.Dense(1, activation='sigmoid')\n",
    "])\n"
   ]
  },
  {
   "cell_type": "code",
   "execution_count": 8,
   "id": "ebc40672",
   "metadata": {},
   "outputs": [],
   "source": [
    "model.compile(optimizer='adam', loss='binary_crossentropy', metrics=['accuracy'])\n"
   ]
  },
  {
   "cell_type": "code",
   "execution_count": 9,
   "id": "3a1950c6",
   "metadata": {},
   "outputs": [
    {
     "name": "stdout",
     "output_type": "stream",
     "text": [
      "Epoch 1/50\n",
      "9/9 [==============================] - 1s 28ms/step - loss: 0.6680 - accuracy: 0.5880 - val_loss: 0.5435 - val_accuracy: 0.9552\n",
      "Epoch 2/50\n",
      "9/9 [==============================] - 0s 6ms/step - loss: 0.4736 - accuracy: 0.9700 - val_loss: 0.3727 - val_accuracy: 1.0000\n",
      "Epoch 3/50\n",
      "9/9 [==============================] - 0s 6ms/step - loss: 0.3101 - accuracy: 0.9963 - val_loss: 0.2269 - val_accuracy: 1.0000\n",
      "Epoch 4/50\n",
      "9/9 [==============================] - 0s 6ms/step - loss: 0.1795 - accuracy: 1.0000 - val_loss: 0.1198 - val_accuracy: 1.0000\n",
      "Epoch 5/50\n",
      "9/9 [==============================] - 0s 5ms/step - loss: 0.0980 - accuracy: 1.0000 - val_loss: 0.0599 - val_accuracy: 1.0000\n",
      "Epoch 6/50\n",
      "9/9 [==============================] - 0s 6ms/step - loss: 0.0500 - accuracy: 1.0000 - val_loss: 0.0314 - val_accuracy: 1.0000\n",
      "Epoch 7/50\n",
      "9/9 [==============================] - 0s 7ms/step - loss: 0.0294 - accuracy: 1.0000 - val_loss: 0.0181 - val_accuracy: 1.0000\n",
      "Epoch 8/50\n",
      "9/9 [==============================] - 0s 12ms/step - loss: 0.0175 - accuracy: 1.0000 - val_loss: 0.0118 - val_accuracy: 1.0000\n",
      "Epoch 9/50\n",
      "9/9 [==============================] - 0s 11ms/step - loss: 0.0117 - accuracy: 1.0000 - val_loss: 0.0085 - val_accuracy: 1.0000\n",
      "Epoch 10/50\n",
      "9/9 [==============================] - 0s 12ms/step - loss: 0.0095 - accuracy: 1.0000 - val_loss: 0.0065 - val_accuracy: 1.0000\n",
      "Epoch 11/50\n",
      "9/9 [==============================] - 0s 12ms/step - loss: 0.0075 - accuracy: 1.0000 - val_loss: 0.0051 - val_accuracy: 1.0000\n",
      "Epoch 12/50\n",
      "9/9 [==============================] - 0s 13ms/step - loss: 0.0053 - accuracy: 1.0000 - val_loss: 0.0042 - val_accuracy: 1.0000\n",
      "Epoch 13/50\n",
      "9/9 [==============================] - 0s 11ms/step - loss: 0.0046 - accuracy: 1.0000 - val_loss: 0.0035 - val_accuracy: 1.0000\n",
      "Epoch 14/50\n",
      "9/9 [==============================] - 0s 11ms/step - loss: 0.0037 - accuracy: 1.0000 - val_loss: 0.0030 - val_accuracy: 1.0000\n",
      "Epoch 15/50\n",
      "9/9 [==============================] - 0s 12ms/step - loss: 0.0034 - accuracy: 1.0000 - val_loss: 0.0026 - val_accuracy: 1.0000\n",
      "Epoch 16/50\n",
      "9/9 [==============================] - 0s 11ms/step - loss: 0.0031 - accuracy: 1.0000 - val_loss: 0.0023 - val_accuracy: 1.0000\n",
      "Epoch 17/50\n",
      "9/9 [==============================] - 0s 11ms/step - loss: 0.0027 - accuracy: 1.0000 - val_loss: 0.0020 - val_accuracy: 1.0000\n",
      "Epoch 18/50\n",
      "9/9 [==============================] - 0s 11ms/step - loss: 0.0021 - accuracy: 1.0000 - val_loss: 0.0018 - val_accuracy: 1.0000\n",
      "Epoch 19/50\n",
      "9/9 [==============================] - 0s 12ms/step - loss: 0.0020 - accuracy: 1.0000 - val_loss: 0.0016 - val_accuracy: 1.0000\n",
      "Epoch 20/50\n",
      "9/9 [==============================] - 0s 11ms/step - loss: 0.0019 - accuracy: 1.0000 - val_loss: 0.0014 - val_accuracy: 1.0000\n",
      "Epoch 21/50\n",
      "9/9 [==============================] - 0s 11ms/step - loss: 0.0018 - accuracy: 1.0000 - val_loss: 0.0013 - val_accuracy: 1.0000\n",
      "Epoch 22/50\n",
      "9/9 [==============================] - 0s 11ms/step - loss: 0.0015 - accuracy: 1.0000 - val_loss: 0.0012 - val_accuracy: 1.0000\n",
      "Epoch 23/50\n",
      "9/9 [==============================] - 0s 11ms/step - loss: 0.0013 - accuracy: 1.0000 - val_loss: 0.0011 - val_accuracy: 1.0000\n",
      "Epoch 24/50\n",
      "9/9 [==============================] - 0s 11ms/step - loss: 0.0014 - accuracy: 1.0000 - val_loss: 0.0010 - val_accuracy: 1.0000\n",
      "Epoch 25/50\n",
      "9/9 [==============================] - 0s 10ms/step - loss: 0.0018 - accuracy: 1.0000 - val_loss: 9.0072e-04 - val_accuracy: 1.0000\n",
      "Epoch 26/50\n",
      "9/9 [==============================] - 0s 11ms/step - loss: 0.0011 - accuracy: 1.0000 - val_loss: 8.1057e-04 - val_accuracy: 1.0000\n",
      "Epoch 27/50\n",
      "9/9 [==============================] - 0s 11ms/step - loss: 9.3616e-04 - accuracy: 1.0000 - val_loss: 7.4720e-04 - val_accuracy: 1.0000\n",
      "Epoch 28/50\n",
      "9/9 [==============================] - 0s 11ms/step - loss: 0.0010 - accuracy: 1.0000 - val_loss: 6.9318e-04 - val_accuracy: 1.0000\n",
      "Epoch 29/50\n",
      "9/9 [==============================] - 0s 11ms/step - loss: 8.9799e-04 - accuracy: 1.0000 - val_loss: 6.4482e-04 - val_accuracy: 1.0000\n",
      "Epoch 30/50\n",
      "9/9 [==============================] - 0s 11ms/step - loss: 8.7333e-04 - accuracy: 1.0000 - val_loss: 6.0132e-04 - val_accuracy: 1.0000\n",
      "Epoch 31/50\n",
      "9/9 [==============================] - 0s 13ms/step - loss: 8.5918e-04 - accuracy: 1.0000 - val_loss: 5.6049e-04 - val_accuracy: 1.0000\n",
      "Epoch 32/50\n",
      "9/9 [==============================] - 0s 11ms/step - loss: 7.5159e-04 - accuracy: 1.0000 - val_loss: 5.2443e-04 - val_accuracy: 1.0000\n",
      "Epoch 33/50\n",
      "9/9 [==============================] - 0s 11ms/step - loss: 6.5508e-04 - accuracy: 1.0000 - val_loss: 4.9374e-04 - val_accuracy: 1.0000\n",
      "Epoch 34/50\n",
      "9/9 [==============================] - 0s 11ms/step - loss: 5.4220e-04 - accuracy: 1.0000 - val_loss: 4.6628e-04 - val_accuracy: 1.0000\n",
      "Epoch 35/50\n",
      "9/9 [==============================] - 0s 13ms/step - loss: 5.8878e-04 - accuracy: 1.0000 - val_loss: 4.4081e-04 - val_accuracy: 1.0000\n",
      "Epoch 36/50\n",
      "9/9 [==============================] - 0s 11ms/step - loss: 6.9746e-04 - accuracy: 1.0000 - val_loss: 4.1412e-04 - val_accuracy: 1.0000\n",
      "Epoch 37/50\n",
      "9/9 [==============================] - 0s 13ms/step - loss: 4.7476e-04 - accuracy: 1.0000 - val_loss: 3.8285e-04 - val_accuracy: 1.0000\n",
      "Epoch 38/50\n",
      "9/9 [==============================] - 0s 12ms/step - loss: 4.7639e-04 - accuracy: 1.0000 - val_loss: 3.6089e-04 - val_accuracy: 1.0000\n",
      "Epoch 39/50\n",
      "9/9 [==============================] - 0s 12ms/step - loss: 5.1132e-04 - accuracy: 1.0000 - val_loss: 3.3956e-04 - val_accuracy: 1.0000\n",
      "Epoch 40/50\n",
      "9/9 [==============================] - 0s 11ms/step - loss: 3.9722e-04 - accuracy: 1.0000 - val_loss: 3.2092e-04 - val_accuracy: 1.0000\n",
      "Epoch 41/50\n",
      "9/9 [==============================] - 0s 11ms/step - loss: 4.1438e-04 - accuracy: 1.0000 - val_loss: 3.0458e-04 - val_accuracy: 1.0000\n",
      "Epoch 42/50\n",
      "9/9 [==============================] - 0s 11ms/step - loss: 4.0448e-04 - accuracy: 1.0000 - val_loss: 2.8867e-04 - val_accuracy: 1.0000\n",
      "Epoch 43/50\n",
      "9/9 [==============================] - 0s 10ms/step - loss: 4.2613e-04 - accuracy: 1.0000 - val_loss: 2.7351e-04 - val_accuracy: 1.0000\n",
      "Epoch 44/50\n",
      "9/9 [==============================] - 0s 12ms/step - loss: 3.7039e-04 - accuracy: 1.0000 - val_loss: 2.5920e-04 - val_accuracy: 1.0000\n",
      "Epoch 45/50\n",
      "9/9 [==============================] - 0s 10ms/step - loss: 3.4956e-04 - accuracy: 1.0000 - val_loss: 2.4606e-04 - val_accuracy: 1.0000\n",
      "Epoch 46/50\n",
      "9/9 [==============================] - 0s 11ms/step - loss: 4.7275e-04 - accuracy: 1.0000 - val_loss: 2.3312e-04 - val_accuracy: 1.0000\n",
      "Epoch 47/50\n",
      "9/9 [==============================] - 0s 11ms/step - loss: 3.0049e-04 - accuracy: 1.0000 - val_loss: 2.2130e-04 - val_accuracy: 1.0000\n",
      "Epoch 48/50\n",
      "9/9 [==============================] - 0s 10ms/step - loss: 3.0971e-04 - accuracy: 1.0000 - val_loss: 2.1061e-04 - val_accuracy: 1.0000\n",
      "Epoch 49/50\n",
      "9/9 [==============================] - 0s 12ms/step - loss: 3.0748e-04 - accuracy: 1.0000 - val_loss: 2.0075e-04 - val_accuracy: 1.0000\n",
      "Epoch 50/50\n",
      "9/9 [==============================] - 0s 10ms/step - loss: 2.3386e-04 - accuracy: 1.0000 - val_loss: 1.9241e-04 - val_accuracy: 1.0000\n"
     ]
    }
   ],
   "source": [
    "history = model.fit(X_train_scaled, y_train, epochs=50, batch_size=32, validation_split=0.2)\n"
   ]
  },
  {
   "cell_type": "markdown",
   "id": "df307c62",
   "metadata": {},
   "source": [
    "finally predicting our model for unseen test dataset"
   ]
  },
  {
   "cell_type": "code",
   "execution_count": 10,
   "id": "ae6cd772",
   "metadata": {},
   "outputs": [
    {
     "name": "stdout",
     "output_type": "stream",
     "text": [
      "3/3 [==============================] - 0s 2ms/step\n"
     ]
    }
   ],
   "source": [
    "y_pred = model.predict(X_test)\n"
   ]
  },
  {
   "cell_type": "markdown",
   "id": "d3cc3c74",
   "metadata": {},
   "source": [
    "evalutating our model for accuracy and minimum loss"
   ]
  },
  {
   "cell_type": "markdown",
   "id": "a4873592",
   "metadata": {},
   "source": [
    "loss, accuracy = model.evaluate(X_test_scaled, y_test)\n",
    "print(f\"Test accuracy: {accuracy:.4f}\")"
   ]
  }
 ],
 "metadata": {
  "kernelspec": {
   "display_name": "Python 3 (ipykernel)",
   "language": "python",
   "name": "python3"
  },
  "language_info": {
   "codemirror_mode": {
    "name": "ipython",
    "version": 3
   },
   "file_extension": ".py",
   "mimetype": "text/x-python",
   "name": "python",
   "nbconvert_exporter": "python",
   "pygments_lexer": "ipython3",
   "version": "3.10.7"
  }
 },
 "nbformat": 4,
 "nbformat_minor": 5
}
